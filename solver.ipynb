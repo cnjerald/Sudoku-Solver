{
 "cells": [
  {
   "cell_type": "code",
   "execution_count": 228,
   "id": "fa1bf814-5821-4ba2-8710-52721ee2f608",
   "metadata": {},
   "outputs": [],
   "source": [
    "import os\n",
    "import numpy as np\n",
    "import ast\n",
    "from collections import Counter"
   ]
  },
  {
   "cell_type": "code",
   "execution_count": 229,
   "id": "85de2df2-4ab4-4a5b-88ed-a16a42bcd01e",
   "metadata": {},
   "outputs": [],
   "source": [
    "# Strategies:\n",
    "# https://www.conceptispuzzles.com/index.aspx?uri=puzzle/sudoku/techniques"
   ]
  },
  {
   "cell_type": "code",
   "execution_count": 230,
   "id": "0f994a47-f3b2-40b3-9910-1b08ae8479f1",
   "metadata": {},
   "outputs": [],
   "source": [
    "f = open(\"base.txt\",\"r\")\n",
    "input = f.read(241)\n",
    "f.close()"
   ]
  },
  {
   "cell_type": "code",
   "execution_count": 231,
   "id": "bdde9519-3792-4d17-b2e3-1f6543af25ae",
   "metadata": {},
   "outputs": [],
   "source": [
    "arr = []\n",
    "numAlign = [0,2,4,8,10,12,16,18,20]\n",
    "\n",
    "def loadToHash():\n",
    "    for i in range (0,11):\n",
    "        if i == 3 or i == 7:\n",
    "            continue\n",
    "        for j in numAlign:\n",
    "            arr.append(input[(i*22) + j])\n",
    "    reshaped_arr = [arr[i:i + 9] for i in range(0, len(arr), 9)]\n",
    "    return reshaped_arr"
   ]
  },
  {
   "cell_type": "code",
   "execution_count": 232,
   "id": "2fe6ccc1-207c-483c-a4bd-b6735c9e62d2",
   "metadata": {},
   "outputs": [],
   "source": [
    "loaded = loadToHash()\n",
    "final_arr = np.array(loaded)"
   ]
  },
  {
   "cell_type": "code",
   "execution_count": 233,
   "id": "661e9787-3aa9-4391-96e8-ea5f847b3c58",
   "metadata": {},
   "outputs": [
    {
     "data": {
      "text/plain": [
       "array([['_', '_', '_', '1', '_', '4', '_', '_', '_'],\n",
       "       ['_', '_', '1', '_', '_', '_', '9', '_', '_'],\n",
       "       ['_', '9', '_', '7', '_', '3', '_', '6', '_'],\n",
       "       ['8', '_', '7', '_', '_', '_', '1', '_', '6'],\n",
       "       ['_', '_', '_', '_', '_', '_', '_', '_', '_'],\n",
       "       ['3', '_', '4', '_', '_', '_', '5', '_', '9'],\n",
       "       ['_', '5', '_', '4', '_', '2', '_', '3', '_'],\n",
       "       ['_', '_', '8', '_', '_', '_', '6', '_', '_'],\n",
       "       ['_', '_', '_', '8', '_', '6', '_', '_', '_']], dtype='<U1')"
      ]
     },
     "execution_count": 233,
     "metadata": {},
     "output_type": "execute_result"
    }
   ],
   "source": [
    "final_arr"
   ]
  },
  {
   "cell_type": "code",
   "execution_count": 234,
   "id": "c524eec6-0be9-4caf-a331-da58cf0353bb",
   "metadata": {},
   "outputs": [],
   "source": [
    "def checkPossibleNumbers(final_arr):\n",
    "    row_sets = [set(final_arr[i,:]) for i in range(9)]\n",
    "    col_sets = [set(final_arr[:,j]) for j in range(9)]\n",
    "    square_sets = [set() for _ in range(9)]\n",
    "    for i in range(9):\n",
    "        for j in range(9):\n",
    "            square_index = (i // 3) * 3 + (j // 3)\n",
    "            if final_arr[i, j] != '_':\n",
    "                square_sets[square_index].add(final_arr[i, j])\n",
    "                \n",
    "    for i in range(9):\n",
    "        # Direction_arr check possible numbers in an entire row, then find unique values.\n",
    "        direction_arr = set()\n",
    "        unique_row = set()\n",
    "        unique_col = set()\n",
    "        used_set = set()\n",
    "        for j in range(9):\n",
    "            if final_arr[i,j] == '_':\n",
    "                # Initially all numbers are possible\n",
    "                possible_numbers = set(map(str, range(1, 10)))\n",
    "                # Subtract with the current row numbers\n",
    "                possible_numbers -= row_sets[i]\n",
    "                # Subtract with the current column numbers\n",
    "                possible_numbers -= col_sets[j]\n",
    "                # Only get the number that is unique\n",
    "                possible_numbers -= used_set\n",
    "                # Subtract with the current numbers in the same square\n",
    "                square_index = (i // 3) * 3 + (j // 3)\n",
    "                possible_numbers -= square_sets[square_index]\n",
    "                # Print possible numbers left.\n",
    "                print(f\"Possible numbers for ({i}, {j}): {possible_numbers}\")\n",
    "                direction_arr.add(f\"({i},{j}): {possible_numbers}\")\n",
    "                if len(possible_numbers) == 1:\n",
    "                    final_arr[i, j] = possible_numbers.pop()\n",
    "                    used_set.add(final_arr[i, j]);\n",
    "        \n",
    "        uniqueNumbers = find_unique_number(direction_arr)\n",
    "        for number in uniqueNumbers:\n",
    "            X,y = find_coordinates_for_number(direction_arr,number)\n",
    "            final_arr[X, y] = number\n",
    "    # After scanning the entire board, other more complex process can be done\n",
    "    # Todo: \n",
    "    # If there are exactly two possible values in a square\n",
    "    # If these values are aligned by row\n",
    "    # Remove All row values alligned to this,\n",
    "    # If columns, then remove all column values aligned to this.\n",
    "    # find the unique number once again\n",
    "    # If there is a unique number, then set that to [i,j].\n",
    "            \n",
    "    return final_arr\n",
    "                "
   ]
  },
  {
   "cell_type": "code",
   "execution_count": 235,
   "id": "db3b702a-fc01-4e43-93bf-fbbed2de8114",
   "metadata": {},
   "outputs": [],
   "source": [
    "def find_unique_number(sets):\n",
    "    all_numbers = []\n",
    "    for s in sets:\n",
    "        numbers = ast.literal_eval(s.split(\": \")[1])\n",
    "        all_numbers.extend(numbers)\n",
    "    number_counts = Counter(all_numbers)\n",
    "    unique_numbers = {num for num, count in number_counts.items() if count == 1}\n",
    "    \n",
    "    return unique_numbers"
   ]
  },
  {
   "cell_type": "code",
   "execution_count": 236,
   "id": "6fc66064-295f-4434-96f7-10744b38a07f",
   "metadata": {},
   "outputs": [],
   "source": [
    "def find_coordinates_for_number(sets, number):\n",
    "    coordinates = []\n",
    "    \n",
    "    # Check each set of numbers to find which coordinates contain the given number\n",
    "    for s in sets:\n",
    "        # Extract the coordinate part and the set of numbers\n",
    "        coord, numbers = s.split(\": \")\n",
    "        numbers = ast.literal_eval(numbers)\n",
    "        \n",
    "        # Check if the number is in the current set\n",
    "        if number in numbers:\n",
    "            # Convert the coordinate string to a tuple (x, y)\n",
    "            return tuple(map(int, coord.strip('()').split(',')))\n",
    "    \n",
    "    return coordinates"
   ]
  },
  {
   "cell_type": "code",
   "execution_count": 237,
   "id": "9df50ffc-99b1-40be-b497-7d0d2ce644d6",
   "metadata": {},
   "outputs": [],
   "source": [
    "def has_empty_cells(final_arr):\n",
    "    for row in final_arr:\n",
    "        if '_' in row:\n",
    "            return True\n",
    "    return False"
   ]
  },
  {
   "cell_type": "code",
   "execution_count": 249,
   "id": "3734b2ee-b684-4678-a774-03d2da9dd460",
   "metadata": {},
   "outputs": [
    {
     "name": "stdout",
     "output_type": "stream",
     "text": [
      "Possible numbers for (0, 0): {'7', '2', '6', '5'}\n",
      "Possible numbers for (0, 1): {'7', '6', '8', '3'}\n",
      "Possible numbers for (0, 2): {'2', '6', '3', '5'}\n",
      "Possible numbers for (0, 6): {'7', '2', '8', '3'}\n",
      "Possible numbers for (0, 7): {'7', '2', '8', '5'}\n",
      "Possible numbers for (0, 8): {'7', '2', '8', '3', '5'}\n",
      "Possible numbers for (1, 0): {'7', '2', '6', '4', '5'}\n",
      "Possible numbers for (1, 1): {'7', '6', '4', '8', '3'}\n",
      "Possible numbers for (1, 3): {'2', '6', '5'}\n",
      "Possible numbers for (1, 4): {'2', '6', '8', '5'}\n",
      "Possible numbers for (1, 5): {'8', '5'}\n",
      "Possible numbers for (1, 7): {'7', '2', '8', '5'}\n",
      "Possible numbers for (1, 8): {'7', '2', '4', '8', '3', '5'}\n",
      "Possible numbers for (2, 0): {'2', '4', '5'}\n",
      "Possible numbers for (2, 2): {'2', '5'}\n",
      "Possible numbers for (2, 4): {'2', '8', '5'}\n",
      "Possible numbers for (2, 6): {'2', '4', '8'}\n",
      "Possible numbers for (3, 3): {'3', '9', '5'}\n",
      "Possible numbers for (3, 4): {'3', '5'}\n",
      "Possible numbers for (3, 5): {'9', '5'}\n",
      "Possible numbers for (4, 0): {'1', '6', '9', '5'}\n",
      "Possible numbers for (4, 1): {'1', '6'}\n",
      "Possible numbers for (4, 2): {'6', '9', '5'}\n",
      "Possible numbers for (4, 3): {'2', '6', '3', '9', '5'}\n",
      "Possible numbers for (4, 5): {'7', '1', '8', '9', '5'}\n",
      "Possible numbers for (4, 6): {'7', '2', '8', '3'}\n",
      "Possible numbers for (4, 7): {'7', '2', '8'}\n",
      "Possible numbers for (4, 8): {'7', '2', '8', '3'}\n",
      "Possible numbers for (5, 1): {'1', '6'}\n",
      "Possible numbers for (5, 3): {'2', '6'}\n",
      "Possible numbers for (5, 4): {'7', '2', '1', '6', '8'}\n",
      "Possible numbers for (5, 5): {'7', '1', '8'}\n",
      "Possible numbers for (5, 7): {'7', '2', '8'}\n",
      "Possible numbers for (6, 0): {'7', '1', '6', '9'}\n",
      "Possible numbers for (6, 2): {'6', '9'}\n",
      "Possible numbers for (6, 4): {'7', '1'}\n",
      "Possible numbers for (6, 6): {'7', '8'}\n",
      "Possible numbers for (6, 8): {'7', '8'}\n",
      "Possible numbers for (7, 0): {'7', '2', '1', '4', '9'}\n",
      "Possible numbers for (7, 1): {'7', '1', '4', '3'}\n",
      "Possible numbers for (7, 3): {'3', '9', '5'}\n",
      "Possible numbers for (7, 4): {'7', '1', '3', '5'}\n",
      "Possible numbers for (7, 5): {'7', '1', '9', '5'}\n",
      "Possible numbers for (7, 7): {'7', '2', '1', '9', '5'}\n",
      "Possible numbers for (7, 8): {'7', '2', '4', '5'}\n",
      "Possible numbers for (8, 0): {'7', '2', '1', '4', '9'}\n",
      "Possible numbers for (8, 1): {'7', '1', '4', '3'}\n",
      "Possible numbers for (8, 2): {'2', '3', '9'}\n",
      "Possible numbers for (8, 4): {'7', '1', '3', '5'}\n",
      "Possible numbers for (8, 6): {'7', '2', '4'}\n",
      "Possible numbers for (8, 7): {'7', '2', '1', '9', '5'}\n",
      "Possible numbers for (8, 8): {'7', '2', '4', '5'}\n"
     ]
    }
   ],
   "source": [
    "final_arr = checkPossibleNumbers(final_arr)"
   ]
  },
  {
   "cell_type": "code",
   "execution_count": 250,
   "id": "d4bab5c5-9321-4aef-bda2-edf117b7bdc5",
   "metadata": {},
   "outputs": [
    {
     "data": {
      "text/plain": [
       "array([['_', '_', '_', '1', '9', '4', '_', '_', '_'],\n",
       "       ['_', '_', '1', '_', '_', '_', '9', '_', '_'],\n",
       "       ['_', '9', '_', '7', '_', '3', '_', '6', '1'],\n",
       "       ['8', '2', '7', '_', '_', '_', '1', '4', '6'],\n",
       "       ['_', '_', '_', '_', '4', '_', '_', '_', '_'],\n",
       "       ['3', '_', '4', '_', '_', '_', '5', '_', '9'],\n",
       "       ['_', '5', '_', '4', '_', '2', '_', '3', '_'],\n",
       "       ['_', '_', '8', '_', '_', '_', '6', '_', '_'],\n",
       "       ['_', '_', '_', '8', '_', '6', '_', '_', '_']], dtype='<U1')"
      ]
     },
     "execution_count": 250,
     "metadata": {},
     "output_type": "execute_result"
    }
   ],
   "source": [
    "final_arr"
   ]
  },
  {
   "cell_type": "code",
   "execution_count": null,
   "id": "f97daa37-180e-4111-9bd2-520235c4ef44",
   "metadata": {},
   "outputs": [],
   "source": []
  }
 ],
 "metadata": {
  "kernelspec": {
   "display_name": "Python 3 (ipykernel)",
   "language": "python",
   "name": "python3"
  },
  "language_info": {
   "codemirror_mode": {
    "name": "ipython",
    "version": 3
   },
   "file_extension": ".py",
   "mimetype": "text/x-python",
   "name": "python",
   "nbconvert_exporter": "python",
   "pygments_lexer": "ipython3",
   "version": "3.11.9"
  }
 },
 "nbformat": 4,
 "nbformat_minor": 5
}
